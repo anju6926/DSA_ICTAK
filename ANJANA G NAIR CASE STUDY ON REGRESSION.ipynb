{
 "cells": [
  {
   "cell_type": "markdown",
   "id": "f3d025b2",
   "metadata": {},
   "source": [
    "# CASE STUDY ON REGRESSION"
   ]
  },
  {
   "cell_type": "code",
   "execution_count": 1,
   "id": "836a672e",
   "metadata": {},
   "outputs": [],
   "source": [
    "# importing the necessary libraries\n",
    "import pandas as pd\n",
    "import numpy as np\n",
    "import seaborn as sns\n",
    "import matplotlib.pyplot as plt\n",
    "from sklearn.model_selection import train_test_split\n",
    "from sklearn.linear_model import LinearRegression\n",
    "from sklearn.metrics import mean_squared_error,r2_score\n",
    "from sklearn.linear_model import Lasso"
   ]
  },
  {
   "cell_type": "code",
   "execution_count": 2,
   "id": "544bc53a",
   "metadata": {},
   "outputs": [],
   "source": [
    "data=pd.read_csv(r\"C:\\Users\\user\\Desktop\\car_age_price.csv\")"
   ]
  },
  {
   "cell_type": "markdown",
   "id": "b65f08ac",
   "metadata": {},
   "source": [
    "### EXPLORING THE DATA"
   ]
  },
  {
   "cell_type": "code",
   "execution_count": 3,
   "id": "aebade82",
   "metadata": {},
   "outputs": [
    {
     "data": {
      "text/plain": [
       "(112, 2)"
      ]
     },
     "execution_count": 3,
     "metadata": {},
     "output_type": "execute_result"
    }
   ],
   "source": [
    "# Showing total number of rows and columns.\n",
    "data.shape"
   ]
  },
  {
   "cell_type": "code",
   "execution_count": 4,
   "id": "6386f247",
   "metadata": {},
   "outputs": [
    {
     "data": {
      "text/html": [
       "<div>\n",
       "<style scoped>\n",
       "    .dataframe tbody tr th:only-of-type {\n",
       "        vertical-align: middle;\n",
       "    }\n",
       "\n",
       "    .dataframe tbody tr th {\n",
       "        vertical-align: top;\n",
       "    }\n",
       "\n",
       "    .dataframe thead th {\n",
       "        text-align: right;\n",
       "    }\n",
       "</style>\n",
       "<table border=\"1\" class=\"dataframe\">\n",
       "  <thead>\n",
       "    <tr style=\"text-align: right;\">\n",
       "      <th></th>\n",
       "      <th>Year</th>\n",
       "      <th>Price</th>\n",
       "    </tr>\n",
       "  </thead>\n",
       "  <tbody>\n",
       "    <tr>\n",
       "      <th>0</th>\n",
       "      <td>2018</td>\n",
       "      <td>465000</td>\n",
       "    </tr>\n",
       "    <tr>\n",
       "      <th>1</th>\n",
       "      <td>2019</td>\n",
       "      <td>755000</td>\n",
       "    </tr>\n",
       "    <tr>\n",
       "      <th>2</th>\n",
       "      <td>2019</td>\n",
       "      <td>700000</td>\n",
       "    </tr>\n",
       "    <tr>\n",
       "      <th>3</th>\n",
       "      <td>2018</td>\n",
       "      <td>465000</td>\n",
       "    </tr>\n",
       "    <tr>\n",
       "      <th>4</th>\n",
       "      <td>2018</td>\n",
       "      <td>465000</td>\n",
       "    </tr>\n",
       "  </tbody>\n",
       "</table>\n",
       "</div>"
      ],
      "text/plain": [
       "   Year   Price\n",
       "0  2018  465000\n",
       "1  2019  755000\n",
       "2  2019  700000\n",
       "3  2018  465000\n",
       "4  2018  465000"
      ]
     },
     "execution_count": 4,
     "metadata": {},
     "output_type": "execute_result"
    }
   ],
   "source": [
    "# Showing the first five columns of the data set.\n",
    "data.head()"
   ]
  },
  {
   "cell_type": "code",
   "execution_count": 5,
   "id": "bd3f2e32",
   "metadata": {},
   "outputs": [
    {
     "name": "stdout",
     "output_type": "stream",
     "text": [
      "<class 'pandas.core.frame.DataFrame'>\n",
      "RangeIndex: 112 entries, 0 to 111\n",
      "Data columns (total 2 columns):\n",
      " #   Column  Non-Null Count  Dtype\n",
      "---  ------  --------------  -----\n",
      " 0   Year    112 non-null    int64\n",
      " 1   Price   112 non-null    int64\n",
      "dtypes: int64(2)\n",
      "memory usage: 1.9 KB\n"
     ]
    }
   ],
   "source": [
    "# Shows relevant details related to the dataset\n",
    "data.info()"
   ]
  },
  {
   "cell_type": "code",
   "execution_count": 6,
   "id": "d178610c",
   "metadata": {},
   "outputs": [
    {
     "data": {
      "text/html": [
       "<div>\n",
       "<style scoped>\n",
       "    .dataframe tbody tr th:only-of-type {\n",
       "        vertical-align: middle;\n",
       "    }\n",
       "\n",
       "    .dataframe tbody tr th {\n",
       "        vertical-align: top;\n",
       "    }\n",
       "\n",
       "    .dataframe thead th {\n",
       "        text-align: right;\n",
       "    }\n",
       "</style>\n",
       "<table border=\"1\" class=\"dataframe\">\n",
       "  <thead>\n",
       "    <tr style=\"text-align: right;\">\n",
       "      <th></th>\n",
       "      <th>Year</th>\n",
       "      <th>Price</th>\n",
       "    </tr>\n",
       "  </thead>\n",
       "  <tbody>\n",
       "    <tr>\n",
       "      <th>count</th>\n",
       "      <td>112.000000</td>\n",
       "      <td>112.000000</td>\n",
       "    </tr>\n",
       "    <tr>\n",
       "      <th>mean</th>\n",
       "      <td>2016.669643</td>\n",
       "      <td>483866.044643</td>\n",
       "    </tr>\n",
       "    <tr>\n",
       "      <th>std</th>\n",
       "      <td>1.629616</td>\n",
       "      <td>91217.450533</td>\n",
       "    </tr>\n",
       "    <tr>\n",
       "      <th>min</th>\n",
       "      <td>2013.000000</td>\n",
       "      <td>300000.000000</td>\n",
       "    </tr>\n",
       "    <tr>\n",
       "      <th>25%</th>\n",
       "      <td>2015.000000</td>\n",
       "      <td>423750.000000</td>\n",
       "    </tr>\n",
       "    <tr>\n",
       "      <th>50%</th>\n",
       "      <td>2017.000000</td>\n",
       "      <td>500000.000000</td>\n",
       "    </tr>\n",
       "    <tr>\n",
       "      <th>75%</th>\n",
       "      <td>2017.000000</td>\n",
       "      <td>550000.000000</td>\n",
       "    </tr>\n",
       "    <tr>\n",
       "      <th>max</th>\n",
       "      <td>2020.000000</td>\n",
       "      <td>755000.000000</td>\n",
       "    </tr>\n",
       "  </tbody>\n",
       "</table>\n",
       "</div>"
      ],
      "text/plain": [
       "              Year          Price\n",
       "count   112.000000     112.000000\n",
       "mean   2016.669643  483866.044643\n",
       "std       1.629616   91217.450533\n",
       "min    2013.000000  300000.000000\n",
       "25%    2015.000000  423750.000000\n",
       "50%    2017.000000  500000.000000\n",
       "75%    2017.000000  550000.000000\n",
       "max    2020.000000  755000.000000"
      ]
     },
     "execution_count": 6,
     "metadata": {},
     "output_type": "execute_result"
    }
   ],
   "source": [
    "# Statistical description of the dataset is shown\n",
    "data.describe()"
   ]
  },
  {
   "cell_type": "code",
   "execution_count": 7,
   "id": "5ffce523",
   "metadata": {},
   "outputs": [
    {
     "data": {
      "text/plain": [
       "Year     0\n",
       "Price    0\n",
       "dtype: int64"
      ]
     },
     "execution_count": 7,
     "metadata": {},
     "output_type": "execute_result"
    }
   ],
   "source": [
    "# To check the mean values\n",
    "data.isnull().sum()"
   ]
  },
  {
   "cell_type": "code",
   "execution_count": 8,
   "id": "6b7c3982",
   "metadata": {},
   "outputs": [
    {
     "data": {
      "text/plain": [
       "54"
      ]
     },
     "execution_count": 8,
     "metadata": {},
     "output_type": "execute_result"
    }
   ],
   "source": [
    "#To check duplicates\n",
    "data.duplicated().sum()"
   ]
  },
  {
   "cell_type": "code",
   "execution_count": 9,
   "id": "2b42ecb9",
   "metadata": {},
   "outputs": [],
   "source": [
    "# Dropping duplicate values\n",
    "data=data.drop_duplicates()"
   ]
  },
  {
   "cell_type": "code",
   "execution_count": 10,
   "id": "2ea27bce",
   "metadata": {},
   "outputs": [
    {
     "data": {
      "text/plain": [
       "(58, 2)"
      ]
     },
     "execution_count": 10,
     "metadata": {},
     "output_type": "execute_result"
    }
   ],
   "source": [
    "data.shape"
   ]
  },
  {
   "cell_type": "markdown",
   "id": "e669c4b6",
   "metadata": {},
   "source": [
    "### OUTLIER HANDLING"
   ]
  },
  {
   "cell_type": "code",
   "execution_count": 11,
   "id": "f204142c",
   "metadata": {},
   "outputs": [],
   "source": [
    "cols=data.columns"
   ]
  },
  {
   "cell_type": "code",
   "execution_count": 12,
   "id": "defb6d9b",
   "metadata": {},
   "outputs": [
    {
     "data": {
      "text/plain": [
       "Index(['Year', 'Price'], dtype='object')"
      ]
     },
     "execution_count": 12,
     "metadata": {},
     "output_type": "execute_result"
    }
   ],
   "source": [
    "cols"
   ]
  },
  {
   "cell_type": "code",
   "execution_count": 13,
   "id": "111dc5ae",
   "metadata": {},
   "outputs": [
    {
     "data": {
      "image/png": "[encoded data removed]",
      "text/plain": [
       "<Figure size 640x480 with 1 Axes>"
      ]
     },
     "metadata": {},
     "output_type": "display_data"
    },
    {
     "data": {
      "image/png": "[encoded data removed]",
      "text/plain": [
       "<Figure size 640x480 with 1 Axes>"
      ]
     },
     "metadata": {},
     "output_type": "display_data"
    }
   ],
   "source": [
    "for col in cols:\n",
    "    plt.figure()\n",
    "    plt.boxplot(data[col])\n",
    "    plt.title(col)"
   ]
  },
  {
   "cell_type": "markdown",
   "id": "4f98bd3a",
   "metadata": {},
   "source": [
    "We see that there are no outliers in the data and hence we do not need to be concerned about handling them."
   ]
  },
  {
   "cell_type": "markdown",
   "id": "847298be",
   "metadata": {},
   "source": [
    "### SPLITING DATA SET"
   ]
  },
  {
   "cell_type": "code",
   "execution_count": 14,
   "id": "0886798c",
   "metadata": {},
   "outputs": [],
   "source": [
    "y=data['Price']\n",
    "x=data.drop('Price',axis=1)"
   ]
  },
  {
   "cell_type": "code",
   "execution_count": 15,
   "id": "d82a352d",
   "metadata": {},
   "outputs": [],
   "source": [
    "x_train,x_test,y_train,y_test=train_test_split(x,y,test_size=0.2,random_state=42)"
   ]
  },
  {
   "cell_type": "code",
   "execution_count": 16,
   "id": "c8233d97",
   "metadata": {},
   "outputs": [
    {
     "data": {
      "text/plain": [
       "(     Year\n",
       " 68   2015\n",
       " 60   2015\n",
       " 11   2018\n",
       " 38   2018\n",
       " 8    2017\n",
       " 6    2016\n",
       " 77   2015\n",
       " 40   2019\n",
       " 59   2016\n",
       " 98   2020\n",
       " 99   2020\n",
       " 107  2016\n",
       " 34   2017\n",
       " 12   2017\n",
       " 54   2017\n",
       " 52   2013\n",
       " 37   2017\n",
       " 49   2018\n",
       " 63   2017\n",
       " 108  2014\n",
       " 73   2013\n",
       " 14   2017\n",
       " 61   2017\n",
       " 109  2015\n",
       " 80   2015\n",
       " 58   2014\n",
       " 104  2014\n",
       " 1    2019\n",
       " 43   2019\n",
       " 2    2019\n",
       " 83   2017\n",
       " 71   2017\n",
       " 67   2015\n",
       " 48   2016\n",
       " 86   2017\n",
       " 13   2019\n",
       " 45   2018\n",
       " 39   2020\n",
       " 110  2016\n",
       " 42   2018\n",
       " 10   2019\n",
       " 78   2015\n",
       " 30   2019\n",
       " 56   2014\n",
       " 100  2016\n",
       " 70   2015,\n",
       "      Year\n",
       " 0    2018\n",
       " 7    2017\n",
       " 65   2017\n",
       " 22   2015\n",
       " 81   2014\n",
       " 103  2017\n",
       " 69   2015\n",
       " 50   2013\n",
       " 85   2015\n",
       " 17   2017\n",
       " 97   2020\n",
       " 5    2015)"
      ]
     },
     "execution_count": 16,
     "metadata": {},
     "output_type": "execute_result"
    }
   ],
   "source": [
    "x_train,x_test"
   ]
  },
  {
   "cell_type": "code",
   "execution_count": 17,
   "id": "176b20f1",
   "metadata": {},
   "outputs": [
    {
     "data": {
      "text/plain": [
       "(68     465000\n",
       " 60     490000\n",
       " 11     500000\n",
       " 38     475000\n",
       " 8      509999\n",
       " 6      425000\n",
       " 77     325000\n",
       " 40     525000\n",
       " 59     550000\n",
       " 98     700000\n",
       " 99     600000\n",
       " 107    375000\n",
       " 34     450000\n",
       " 12     500000\n",
       " 54     525000\n",
       " 52     345000\n",
       " 37     486000\n",
       " 49     600000\n",
       " 63     595000\n",
       " 108    300000\n",
       " 73     320000\n",
       " 14     475000\n",
       " 61     540000\n",
       " 109    425000\n",
       " 80     390000\n",
       " 58     450000\n",
       " 104    400000\n",
       " 1      755000\n",
       " 43     550000\n",
       " 2      700000\n",
       " 83     480000\n",
       " 71     490000\n",
       " 67     400000\n",
       " 48     396000\n",
       " 86     520000\n",
       " 13     600000\n",
       " 45     450000\n",
       " 39     545000\n",
       " 110    420000\n",
       " 42     550000\n",
       " 10     500000\n",
       " 78     409999\n",
       " 30     650000\n",
       " 56     341000\n",
       " 100    350000\n",
       " 70     450000\n",
       " Name: Price, dtype: int64,\n",
       " 0      465000\n",
       " 7      575000\n",
       " 65     495000\n",
       " 22     434999\n",
       " 81     390000\n",
       " 103    375000\n",
       " 69     300000\n",
       " 50     325000\n",
       " 85     320000\n",
       " 17     550000\n",
       " 97     640000\n",
       " 5      350000\n",
       " Name: Price, dtype: int64)"
      ]
     },
     "execution_count": 17,
     "metadata": {},
     "output_type": "execute_result"
    }
   ],
   "source": [
    "y_train,y_test"
   ]
  },
  {
   "cell_type": "markdown",
   "id": "b13a6410",
   "metadata": {},
   "source": [
    "### LINEAR REGRESSION MODEL"
   ]
  },
  {
   "cell_type": "code",
   "execution_count": 18,
   "id": "90755b88",
   "metadata": {},
   "outputs": [],
   "source": [
    "lr=LinearRegression()"
   ]
  },
  {
   "cell_type": "code",
   "execution_count": 19,
   "id": "94e58211",
   "metadata": {},
   "outputs": [],
   "source": [
    "#Create a linear regression model\n",
    "model=lr.fit(x_train, y_train)"
   ]
  },
  {
   "cell_type": "code",
   "execution_count": 20,
   "id": "b07e95a5",
   "metadata": {},
   "outputs": [],
   "source": [
    "# Predicting the values for the column 'Price' using the linear regression model on the test set.\n",
    "ypred1=model.predict(x_test)"
   ]
  },
  {
   "cell_type": "code",
   "execution_count": 21,
   "id": "24b0dd53",
   "metadata": {},
   "outputs": [
    {
     "data": {
      "text/plain": [
       "(array([541975.77419354, 498094.31397849, 498094.31397849, 410331.39354838,\n",
       "        366449.93333334, 498094.31397849, 410331.39354838, 322568.47311828,\n",
       "        410331.39354838, 498094.31397849, 629738.69462365, 410331.39354838]),\n",
       " 0      465000\n",
       " 7      575000\n",
       " 65     495000\n",
       " 22     434999\n",
       " 81     390000\n",
       " 103    375000\n",
       " 69     300000\n",
       " 50     325000\n",
       " 85     320000\n",
       " 17     550000\n",
       " 97     640000\n",
       " 5      350000\n",
       " Name: Price, dtype: int64)"
      ]
     },
     "execution_count": 21,
     "metadata": {},
     "output_type": "execute_result"
    }
   ],
   "source": [
    "ypred1,y_test"
   ]
  },
  {
   "cell_type": "code",
   "execution_count": 22,
   "id": "e3969ea2",
   "metadata": {},
   "outputs": [],
   "source": [
    "#Calculate the error metrics for the linear regression model\n",
    "rmse1 = np.sqrt(mean_squared_error(y_test, ypred1))\n",
    "lrr2=r2_score(y_test,ypred1)"
   ]
  },
  {
   "cell_type": "code",
   "execution_count": 23,
   "id": "e2f42bc3",
   "metadata": {},
   "outputs": [
    {
     "name": "stdout",
     "output_type": "stream",
     "text": [
      "Linear Regression:\n",
      "RMSE: 67665.04315289702\n",
      "R^2: 0.5952655854274035\n"
     ]
    }
   ],
   "source": [
    "#print the values for later comparison\n",
    "print('Linear Regression:')\n",
    "print('RMSE:', rmse1)\n",
    "print('R^2:', lrr2)"
   ]
  },
  {
   "cell_type": "markdown",
   "id": "7c5d6022",
   "metadata": {},
   "source": [
    "### LASSO REGRESSION MODEL"
   ]
  },
  {
   "cell_type": "code",
   "execution_count": 24,
   "id": "8bfc2e29",
   "metadata": {},
   "outputs": [
    {
     "data": {
      "text/plain": [
       "Lasso()"
      ]
     },
     "execution_count": 24,
     "metadata": {},
     "output_type": "execute_result"
    }
   ],
   "source": [
    "#Create a Lasso regression model\n",
    "lasso = Lasso()\n",
    "lasso.fit(x_train, y_train)"
   ]
  },
  {
   "cell_type": "code",
   "execution_count": 25,
   "id": "7f4a0236",
   "metadata": {},
   "outputs": [],
   "source": [
    "# Predicting the values for the column 'Price' using the lasso regression model on the test set.\n",
    "ypred2 = lasso.predict(x_test)"
   ]
  },
  {
   "cell_type": "code",
   "execution_count": 26,
   "id": "ca88b599",
   "metadata": {},
   "outputs": [],
   "source": [
    "#Calculate the error metrics for the lasso regression model\n",
    "rmse2 = np.sqrt(mean_squared_error(y_test, ypred2))\n",
    "lasr2 = r2_score(y_test, ypred2)"
   ]
  },
  {
   "cell_type": "code",
   "execution_count": 27,
   "id": "bcaa1e0c",
   "metadata": {},
   "outputs": [
    {
     "name": "stdout",
     "output_type": "stream",
     "text": [
      "Lasso Regression:\n",
      "RMSE: 67665.13512102436\n",
      "R^2: 0.5952644852229334\n"
     ]
    }
   ],
   "source": [
    "#print the values for later comparison\n",
    "print('Lasso Regression:')\n",
    "print('RMSE:', rmse2)\n",
    "print('R^2:', lasr2)"
   ]
  },
  {
   "cell_type": "markdown",
   "id": "e481d2cb",
   "metadata": {},
   "source": [
    "Insight: The RMSE and R^2 values for both models are approximately similar. This indicates that both models are equally good at the fitting of the data. Therefore, it is difficult to say which model is better at predicting the price of a 2022 model second-hand grand i10."
   ]
  },
  {
   "cell_type": "code",
   "execution_count": 28,
   "id": "fbca805a",
   "metadata": {},
   "outputs": [],
   "source": [
    "#Predicting the price of a 2022 model second-hand grand i10 using the linear regression model\n",
    "xyr=pd.DataFrame({'Year':[2022]})\n",
    "ypred1 = model.predict(xyr)"
   ]
  },
  {
   "cell_type": "code",
   "execution_count": 29,
   "id": "bb46b504",
   "metadata": {},
   "outputs": [],
   "source": [
    "ypred1=np.round(ypred1,2)"
   ]
  },
  {
   "cell_type": "code",
   "execution_count": 30,
   "id": "8fbc34c3",
   "metadata": {},
   "outputs": [
    {
     "name": "stdout",
     "output_type": "stream",
     "text": [
      "Predicted price: using linear regression model is ₹  [717501.62]\n"
     ]
    }
   ],
   "source": [
    "print('Predicted price: using linear regression model is', '₹ ',ypred1)"
   ]
  },
  {
   "cell_type": "code",
   "execution_count": 31,
   "id": "ad8a51d8",
   "metadata": {},
   "outputs": [
    {
     "name": "stdout",
     "output_type": "stream",
     "text": [
      "Predicted price: using lassoregression model is  ₹  [717500.11]\n"
     ]
    }
   ],
   "source": [
    "# Similarly predicting the price of a 2022 model second-hand grand i10 using the lasso regression model\n",
    "ypred2 = lasso.predict(xyr)\n",
    "ypred2=np.round(ypred2,2)\n",
    "print('Predicted price: using lassoregression model is ', '₹ ',ypred2)"
   ]
  },
  {
   "cell_type": "code",
   "execution_count": null,
   "id": "22128123",
   "metadata": {},
   "outputs": [],
   "source": []
  }
 ],
 "metadata": {
  "kernelspec": {
   "display_name": "Python 3 (ipykernel)",
   "language": "python",
   "name": "python3"
  },
  "language_info": {
   "codemirror_mode": {
    "name": "ipython",
    "version": 3
   },
   "file_extension": ".py",
   "mimetype": "text/x-python",
   "name": "python",
   "nbconvert_exporter": "python",
   "pygments_lexer": "ipython3",
   "version": "3.9.13"
  }
 },
 "nbformat": 4,
 "nbformat_minor": 5
}
